{
 "cells": [
  {
   "cell_type": "code",
   "execution_count": null,
   "id": "meaningful-surprise",
   "metadata": {},
   "outputs": [],
   "source": [
    "using JuMP, JuMPeR, Gurobi, Random, Distributions, LinearAlgebra, Plots, StatsPlots"
   ]
  },
  {
   "cell_type": "code",
   "execution_count": null,
   "id": "charitable-format",
   "metadata": {},
   "outputs": [],
   "source": [
    "n = 20;\n",
    "b = 4;\n",
    "a = rand(20);\n",
    "c = rand(20);"
   ]
  },
  {
   "cell_type": "code",
   "execution_count": null,
   "id": "controversial-complex",
   "metadata": {},
   "outputs": [],
   "source": [
    "rhos = collect(0:0.1:2)\n",
    "costs = []\n",
    "for ρ in rhos\n",
    "    m = RobustModel(solver = GurobiSolver())\n",
    "    @variable(m, x[1:n], Bin)\n",
    "    @uncertain(m, u[1:n])\n",
    "    @constraint(m, norm(u, 2) <= ρ)\n",
    "    @constraint(m, sum((a+u) .* x) <= b)\n",
    "    @objective(m, Max, sum(c .* x))    \n",
    "    solve(m)\n",
    "    push!(costs, getobjectivevalue(m))\n",
    "end"
   ]
  },
  {
   "cell_type": "code",
   "execution_count": null,
   "id": "played-juvenile",
   "metadata": {},
   "outputs": [],
   "source": [
    "plot(rhos, costs, title = \"Robustness/optimality tradeoff\", xlabel=\"Safety factor\", ylabel=\"Optimal cost\", legend=false)"
   ]
  }
 ],
 "metadata": {
  "kernelspec": {
   "display_name": "Julia 1.0.5",
   "language": "julia",
   "name": "julia-1.0"
  },
  "language_info": {
   "file_extension": ".jl",
   "mimetype": "application/julia",
   "name": "julia",
   "version": "1.0.5"
  }
 },
 "nbformat": 4,
 "nbformat_minor": 5
}
