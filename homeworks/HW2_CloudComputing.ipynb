{
 "cells": [
  {
   "cell_type": "code",
   "execution_count": null,
   "id": "planned-password",
   "metadata": {},
   "outputs": [],
   "source": [
    "using JuMP, JuMPeR, Gurobi, Random, Distributions, LinearAlgebra, Plots, StatsPlots"
   ]
  },
  {
   "cell_type": "code",
   "execution_count": null,
   "id": "raised-faith",
   "metadata": {},
   "outputs": [],
   "source": [
    "T = 25\n",
    "S = 5\n",
    "I = 6\n",
    "Random.seed!(MersenneTwister(314)) # Do not change the seed. \n",
    "function generate_data(I::Int64, S::Int64, T::Int64)\n",
    "    mvdist = Multinomial(I, S) # Multinomial w.r.t. server allocation\n",
    "    raws = Array{Any}(zeros(S)) # Generating tridiagonal multivariate normals for the servers\n",
    "    for s = 1:S \n",
    "        randos = 1/5*randperm(S)\n",
    "        mat = diagm(0 => 1*ones(S), 1 => randos, -1 => randos)\n",
    "        symmat = mat * mat'\n",
    "        raws[s] = MvNormal(symmat)\n",
    "    end\n",
    "    D = zeros(I, S, T); # Generating demand data\n",
    "    for t = 1:T\n",
    "        D[:,:, t] += 2*rand(mvdist,I)'\n",
    "        for i = 1:I\n",
    "            for s = 1:S\n",
    "                D[i, s, t] += abs(rand(raws[s])[1])\n",
    "            end\n",
    "        end\n",
    "    end\n",
    "    return D\n",
    "end\n",
    "D = generate_data(I,S,T);"
   ]
  },
  {
   "cell_type": "code",
   "execution_count": null,
   "id": "enabling-invalid",
   "metadata": {},
   "outputs": [],
   "source": [
    "heatmap(1:I, 1:S, var(D, dims=3)[:,:,1], xlabel = \"Resources\", ylabel = \"Servers\", title = \"Time-variance of demand\")"
   ]
  },
  {
   "cell_type": "code",
   "execution_count": null,
   "id": "virgin-climb",
   "metadata": {},
   "outputs": [],
   "source": [
    "heatmap(1:I, 1:S, mean(D, dims=3)[:,:,1], xlabel = \"Resources\", ylabel = \"Servers\", title = \"Time-mean of demand\")"
   ]
  },
  {
   "cell_type": "code",
   "execution_count": null,
   "id": "irish-willow",
   "metadata": {},
   "outputs": [],
   "source": [
    "# Plotting different kinds of resource costs, i ∈ [1, ... , I]\n",
    "V = 2*[1.5, 1.3, 0.8, 1.3, 1.2, 0.5]; # expansion costs\n",
    "F = [1.5, 1.3, 0.8, 1.3, 1.2, 0.9]; # fixed costs\n",
    "C = [0.4, 0.5, 0.6, 0.7, 0.8, 0.7]; # reallocation costs \n",
    "bardata = hcat(V, F, C)\n",
    "sx = repeat([\"expansion\", \"fixed\", \"reallocation\"], inner = 6)\n",
    "nam = repeat(\"Resource \" .* string.(1:I), outer = 3)\n",
    "groupedbar(nam, bardata, group = sx, ylabel = \"Costs\", \n",
    "        title = \"Costs for each resource\")"
   ]
  },
  {
   "cell_type": "code",
   "execution_count": null,
   "id": "spread-province",
   "metadata": {},
   "outputs": [],
   "source": []
  },
  {
   "cell_type": "code",
   "execution_count": null,
   "id": "extended-focus",
   "metadata": {},
   "outputs": [],
   "source": [
    "# OPTIMIZATION MODEL HERE.\n",
    "m = RobustModel(solver = GurobiSolver())\n",
    "# ..."
   ]
  },
  {
   "cell_type": "code",
   "execution_count": null,
   "id": "focused-tuesday",
   "metadata": {},
   "outputs": [],
   "source": [
    "solve(m)"
   ]
  },
  {
   "cell_type": "code",
   "execution_count": null,
   "id": "outstanding-villa",
   "metadata": {},
   "outputs": [],
   "source": [
    "# Fixed capacities plot\n",
    "heatmap(getvalue(r)', xlabel = \"Resources\", ylabel = \"Servers\", title = \"Fixed capacities\")"
   ]
  },
  {
   "cell_type": "code",
   "execution_count": null,
   "id": "hourly-genealogy",
   "metadata": {},
   "outputs": [],
   "source": [
    "# Time-mean of expansions plot\n",
    "heatmap(mean(getvalue(e), dims=3)[:,:,1]', xlabel = \"Resources\", \n",
    "        ylabel = \"Servers\", title = \"Time-mean of expansions\")"
   ]
  },
  {
   "cell_type": "code",
   "execution_count": null,
   "id": "supported-crystal",
   "metadata": {},
   "outputs": [],
   "source": [
    "# Time-variance of expansions\n",
    "heatmap(var(getvalue(e), dims=3)[:,:,1]', xlabel = \"Resources\", \n",
    "        ylabel = \"Servers\", title = \"Time-variance of expansions\")"
   ]
  },
  {
   "cell_type": "code",
   "execution_count": null,
   "id": "equal-philadelphia",
   "metadata": {},
   "outputs": [],
   "source": [
    "# Time-mean of job transfers out\n",
    "transfers_out = zeros(I,S,T); # Computing the transfers out of each server\n",
    "[transfers_out[i,s,t] = sum(getvalue(u)[i, s, :, t]) for i=1:I, s = 1:S, t = 1:T];\n",
    "heatmap(mean(transfers_out, dims=3)[:,:,1]', xlabel = \"Resources\", \n",
    "        ylabel = \"Servers\", title = \"Time-mean of job transfers out\")"
   ]
  },
  {
   "cell_type": "code",
   "execution_count": null,
   "id": "printable-destiny",
   "metadata": {},
   "outputs": [],
   "source": [
    "# Time-variance of job transfers out\n",
    "heatmap(var(transfers_out, dims=3)[:,:,1]', xlabel = \"Resources\", \n",
    "        ylabel = \"Servers\", title = \"Time-variance of job transfers out\")"
   ]
  },
  {
   "cell_type": "code",
   "execution_count": null,
   "id": "coated-biography",
   "metadata": {},
   "outputs": [],
   "source": [
    "# Plots of temperature\n",
    "temps = getvalue(h)\n",
    "plt = plot(1:T, temps[1,:], label=1)\n",
    "for s=2:S\n",
    "    plot!(1:T, temps[s,:], label=s, title = \"Server temperatures\", xlabel = \"Time period (t)\", ylabel = \"Temperature\", \n",
    "        legend = :bottomright)\n",
    "end\n",
    "display(plt)"
   ]
  },
  {
   "cell_type": "code",
   "execution_count": null,
   "id": "static-company",
   "metadata": {},
   "outputs": [],
   "source": []
  }
 ],
 "metadata": {
  "kernelspec": {
   "display_name": "Julia 1.0.5",
   "language": "julia",
   "name": "julia-1.0"
  },
  "language_info": {
   "file_extension": ".jl",
   "mimetype": "application/julia",
   "name": "julia",
   "version": "1.0.5"
  }
 },
 "nbformat": 4,
 "nbformat_minor": 5
}
